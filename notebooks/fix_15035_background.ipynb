{
 "cells": [
  {
   "cell_type": "markdown",
   "metadata": {},
   "source": [
    "### Specimen 15035 background-correction\n",
    "This specimen had high staining intensity, causing the scanner to increase the luminance, leading to background-values of the png-images to be > 0.\n",
    "For statistical modelling, this is an issue, since values > 0 are interpreted as reflecting staining. \n",
    "\n",
    "To circumvent this issue, we estimate the background intensity as the minimum measured intensity in the four corners of the image (patches of 100x100 voxels), and reset this value to 0."
   ]
  },
  {
   "cell_type": "code",
   "execution_count": 10,
   "metadata": {},
   "outputs": [],
   "source": [
    "from scipy import ndimage\n",
    "from imageio import imwrite\n",
    "import numpy as np\n",
    "import pandas as pd\n",
    "import os\n",
    "import glob\n",
    "import matplotlib.pyplot as plt\n",
    "%matplotlib inline"
   ]
  },
  {
   "cell_type": "markdown",
   "metadata": {},
   "source": [
    "## correct 15035"
   ]
  },
  {
   "cell_type": "code",
   "execution_count": 13,
   "metadata": {},
   "outputs": [],
   "source": [
    "orig_dir = '/home/stevenm/data/post_mortem/original_slides_15035_without_background_fix/15035_png/'\n",
    "new_dir = '/home/stevenm/data/post_mortem/stacked_slides/15035_png/'\n",
    "if not os.path.exists(new_dir):\n",
    "    os.makedirs(new_dir)\n",
    "all_pngs = glob.glob(orig_dir + '*.png')"
   ]
  },
  {
   "cell_type": "code",
   "execution_count": 15,
   "metadata": {},
   "outputs": [
    {
     "name": "stderr",
     "output_type": "stream",
     "text": [
      "/home/stevenm/anaconda2/envs/python3/lib/python3.5/site-packages/ipykernel_launcher.py:2: DeprecationWarning: `imread` is deprecated!\n",
      "`imread` is deprecated in SciPy 1.0.0.\n",
      "Use ``matplotlib.pyplot.imread`` instead.\n",
      "  \n"
     ]
    }
   ],
   "source": [
    "for png in all_pngs:\n",
    "    img = ndimage.imread(png)\n",
    "    min_in_corner0 = np.min(img[:100, :100]) # upper left\n",
    "    min_in_corner1 = np.min(img[:100, -100:]) # upper right\n",
    "    min_in_corner2 = np.min(img[-100:, :100]) # lower left\n",
    "    min_in_corner3 = np.min(img[-100:, -100:]) # lower right\n",
    "\n",
    "    # estimate median of background values\n",
    "    background_median = np.median([min_in_corner0, min_in_corner1, min_in_corner2, min_in_corner3])\n",
    "    \n",
    "    # Set everything at or below this median to 0\n",
    "    img[img<=background_median] = 0\n",
    "    \n",
    "    #save\n",
    "    imwrite(new_dir + png.split('/')[-1], img)"
   ]
  },
  {
   "cell_type": "markdown",
   "metadata": {},
   "source": [
    "## Illustrate difference"
   ]
  },
  {
   "cell_type": "code",
   "execution_count": 16,
   "metadata": {},
   "outputs": [],
   "source": [
    "all_pngs = glob.glob('/home/stevenm/data/post_mortem/stacked_slides/15035_png/*.png')\n",
    "all_pngs_orig = glob.glob('/home/stevenm/data/post_mortem/original_slides_15035_without_background_fix/15035_png/*.png')"
   ]
  },
  {
   "cell_type": "code",
   "execution_count": 17,
   "metadata": {},
   "outputs": [
    {
     "name": "stderr",
     "output_type": "stream",
     "text": [
      "/home/stevenm/anaconda2/envs/python3/lib/python3.5/site-packages/ipykernel_launcher.py:2: DeprecationWarning: `imread` is deprecated!\n",
      "`imread` is deprecated in SciPy 1.0.0.\n",
      "Use ``matplotlib.pyplot.imread`` instead.\n",
      "  \n",
      "/home/stevenm/anaconda2/envs/python3/lib/python3.5/site-packages/ipykernel_launcher.py:7: DeprecationWarning: `imread` is deprecated!\n",
      "`imread` is deprecated in SciPy 1.0.0.\n",
      "Use ``matplotlib.pyplot.imread`` instead.\n",
      "  import sys\n"
     ]
    },
    {
     "data": {
      "image/png": "[encoded data removed]",
      "text/plain": [
       "<Figure size 432x288 with 2 Axes>"
      ]
     },
     "metadata": {},
     "output_type": "display_data"
    }
   ],
   "source": [
    "for png_new, png_orig in zip(all_pngs, all_pngs_orig):\n",
    "    img = ndimage.imread(png_new)\n",
    "    min_in_corner = np.min(img)\n",
    "    \n",
    "    f, ax = plt.subplots(1,2)\n",
    "    ax[0].imshow(img, vmin=0, vmax=355)\n",
    "    ax[1].imshow(ndimage.imread(png_orig), vmin=0, vmax=355)\n",
    "    break\n",
    "    print(min_in_corner)\n",
    "#     if min_in_corner > 0:\n",
    "#         print(min_in_corner)"
   ]
  }
 ],
 "metadata": {
  "kernelspec": {
   "display_name": "Python 3",
   "language": "python",
   "name": "python3"
  },
  "language_info": {
   "codemirror_mode": {
    "name": "ipython",
    "version": 3
   },
   "file_extension": ".py",
   "mimetype": "text/x-python",
   "name": "python",
   "nbconvert_exporter": "python",
   "pygments_lexer": "ipython3",
   "version": "3.5.5"
  }
 },
 "nbformat": 4,
 "nbformat_minor": 2
}
